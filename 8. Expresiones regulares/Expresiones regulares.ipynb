{
 "cells": [
  {
   "cell_type": "markdown",
   "metadata": {},
   "source": [
    "# Expresiones regulares\n",
    "**Autor**: Fermín Cruz   **Revisor**: Carlos G. Vallejo, J. Mariano González, José A. Troyano.  **Última modificación:** 20/12/2017"
   ]
  },
  {
   "cell_type": "markdown",
   "metadata": {},
   "source": [
    "## Índice de contenidos\n",
    "* [1. Información estructurada vs información no estructurada](#sec_1)\n",
    "* [2. Expresiones regulares](#sec_2)\n",
    " * [2.1. Operadores básicos](#sec_2_1)\n",
    " * [2.2. Operadores avanzados](#sec_2_2)\n",
    " * [2.3. Comodines](#sec_2_3)\n",
    " * [2.4. Símbolos especiales](#sec_2_4)\n",
    "* [3. Funciones para trabajar con ER en Python](#sec_3)\n",
    " * [3.1. La función re.findall](#sec_3_1)\n",
    " * [3.2. Las funciones re.match y re.fullmatch](#sec_3_2)\n",
    " * [3.3. Otras funciones que trabajan con ER](#sec_3_3)"
   ]
  },
  {
   "cell_type": "markdown",
   "metadata": {},
   "source": [
    "# 1. Información estructurada vs información no estructurada <a name=\"sec_1\"/>\n",
    "\n",
    "En el notebook anterior hemos visto cómo procesar ficheros de texto en formato CSV. En un archivo con este formato decimos que la información está **estructurada**. Esto significa que los datos están bien ordenados, siguiendo un esquema fácil de procesar. En el caso del CSV, basta separar cada línea en trozos, utilizando la coma como separador, para obtener los distintos datos que contiene. Tal como vimos, esto puede hacerse con el método **split** de las cadenas.\n",
    "\n",
    "Pero en otras ocasiones, la información que queremos procesar tendrá un formato más libre. A veces seguiremos teniendo información con una estructura clara, pero quizás organizada de una manera más compleja. Por ejemplo, si observamos los ficheros de *log* que genera Whatsapp para almacenar los chats, tenemos este formato:\n",
    "\n",
    "<pre>\n",
    "26/02/16, 09:16 - Leonard: De acuerdo, ¿cuál es tu punto?\n",
    "26/02/16, 16:16 - Sheldon: No tiene sentido, solo creo que es una buena idea para una camiseta.\n",
    "</pre>\n",
    "\n",
    "En cada línea de estos ficheros encontramos distintos datos: la fecha y hora de un mensaje, el nombre del usuario que lo escribió, y finalmente el texto del mensaje. Pero esta información no aparece estructurada de manera tan simple como en un CSV. En este caso, la fecha aparece al principio de la línea, y acaba en una coma. A continuación viene la hora, con un espacio antes y después. Tras la hora, viene el usuario (aunque precedido de un guión y otro espacio en blanco), y finalmente, tras dos puntos y un nuevo espacio en blanco, aparece el texto del mensaje. Procesar estas líneas para extraer la información que contiene es más difícil. Ya no podemos hacer una simple llamada al método *split*. \n",
    "\n",
    "En otras ocasiones, la información que queremos procesar simplemente carece de estructura. Imaginemos que queremos procesar el texto de una novela, y sacar un listado de todos los nombres propios de los personajes. Decimos que el texto de la novela es información **no estructurada**. En realidad, sí que tiene una estructura, pues el texto está escrito en un determinado idioma. pero la estructura que sigue el lenguaje humano es tan compleja que, en la práctica, no podemos representarla en nuestros programas de manera exacta. Pero sí podemos hacer un acercamiento más sencillo al problema de encontrar los nombres de los personajes: extraer todas las palabras que comiencen por una letra mayúscula. Con esto obtendríamos un conjunto que incluiría sin duda los nombres de los personajes (aunque luego tuviéramos que ingeniar algún procedimiento posterior para filtrar las que no corresponden a nombres de personajes).\n",
    "\n",
    "En este tipo de situaciones, cuando analizamos información con una estructura compleja o directamente no estructurada, tenemos a nuestra disposición un recurso de gran potencia: las **expresiones regulares**. "
   ]
  },
  {
   "cell_type": "markdown",
   "metadata": {},
   "source": [
    "# 2. Expresiones regulares <a name=\"sec_2\"/>"
   ]
  },
  {
   "cell_type": "markdown",
   "metadata": {},
   "source": [
    "Una **expresión regular** (que podemos abreviar como **ER**, o **RE** en inglés, por *regular expression*) es una cadena de texto que define un patrón, de manera que dado otro texto podemos decir si existe o no una coincidencia con el patrón definido por dicha expresión regular. Lo entenderás mejor si vemos algunos ejemplos. Antes de ver cómo se escriben las expresiones regulares, vamos a escribirlas en lenguaje natural.\n",
    "\n",
    "Una posible ER podría ser *\"todas las palabras que comiencen por mayúsculas\"*. La **expresión regular define un patrón en la que una cadena determinada puede o no encajar**. Por ejemplo, la cadena *\"casa\"* no encaja en el patrón (pues no empieza por letra mayúscula). Tampoco encajaría la cadena \"1298,3\", pues no es una palabra (entendemos que cuando se habla de *todas las palabras* se refiere a combinaciones de letras). Sin embargo, la cadena *\"Tomás\"* sí encaja en el patrón. \n",
    "\n",
    "Una vez definida una ER, no sólo podremos usarla para decidir si una cadena la cumple o no. **También podremos aplicarla a cadenas más largas y pedirle a Python que nos devuelva todos los trozos de la cadena que cumplen dicho patrón**. Siguiendo con el ejemplo anterior, podríamos procesar la cadena *\"Tomás salió de casa y se encontró con Simón.\"*, y Python nos devolvería una lista con los trozos que cumplen el patrón, en este caso *['Tomás', 'Simón']*.\n",
    "\n",
    "Y no sólo eso: también podemos definir patrones más complejos formados por distintos grupos, aplicar dicho patrón a una cadena de entrada y obtener distintos trozos de esa cadena como salida. Por ejemplo, podremos definir un patrón que, aplicado a una línea de un log de Whatsapp como el que vimos antes, nos devuelva por separado los trozos correspondientes a la fecha, la hora, el usuario y el texto del mensaje. "
   ]
  },
  {
   "cell_type": "markdown",
   "metadata": {},
   "source": [
    "Aunque lo que vamos a estudiar aquí es la sintaxis propia de Python para la definición de expresiones regulares, dicha sintaxis es un estándar *de facto*, lo que significa que podremos usarla tal cual o de forma muy parecida en otros contextos (por ejemplo, programando en otros lenguajes como Java, o haciendo búsquedas en editores de texto avanzados como *Notepad++* o *Sublime Text*, entre otros).\n",
    "\n",
    "Para poder ejecutar los ejemplos que vayamos viendo, veamos un trozo de código que aplica una ER a una cadena y nos dice si la cadena cumple o no el patrón:"
   ]
  },
  {
   "cell_type": "code",
   "execution_count": null,
   "metadata": {
    "collapsed": true
   },
   "outputs": [],
   "source": [
    "# Para trabajar con expresiones regulares, hay que hacer esta importación:\n",
    "import re  \n",
    "\n",
    "def prueba_ER(expresion_regular):\n",
    "    print('Probando la ER \"' + expresion_regular + '\"')\n",
    "    cadena = input(\"Introduce una cadena:\")    \n",
    "    if re.fullmatch(expresion_regular, cadena):\n",
    "        print('La cadena ENCAJA en el patrón.')\n",
    "    else:\n",
    "        print('La cadena NO ENCAJA en el patrón.')\n",
    "\n",
    "prueba_ER(r'Tomás')"
   ]
  },
  {
   "cell_type": "markdown",
   "metadata": {},
   "source": [
    "La función **re.fullmatch** recibe una expresión regular y una cadena. Si hay coincidencia entre la cadena y la expresión regular, devuelve un objeto de tipo **match**. Si no hay coincidencia, devuelve *None*. Más adelante veremos qué es este objeto *match*; por ahora nos basta saber que si ha habido coincidencia, en el código anterior se ejecutará el *if*, y si no la ha habido, se ejecutará el *else*.\n",
    "\n",
    "Aunque no es obligatorio, es habitual poner una erre (r) delante de las cadenas que expresan expresiones regulares (veremos más adelante por qué). La expresión regular que hemos usado en el ejemplo anterior es del tipo más simple posible: la única cadena que encaja con el patrón es *\"Tomás\"*. Vamos a ir complicándola poco a poco, introduciendo distintos operadores que nos permitirán expresar patrones más complejos."
   ]
  },
  {
   "cell_type": "markdown",
   "metadata": {},
   "source": [
    "## 2.1. Operadores básicos <a name=\"sec_2_1\"/>"
   ]
  },
  {
   "cell_type": "markdown",
   "metadata": {},
   "source": [
    "Existen tres operadores básicos: concatenación, unión y repetición.  \n",
    "\n",
    "La **concatenación** se consigue simplemente escribiendo expresiones regulares una a continuación de la otra. Por ejemplo, la ER ```r'Tomás'``` es el resultado de concatenar las ER ```r'T'```, ```r'o'```, ```r'm'```, ```r'á'``` y ```r's'```. Cada una de estas expresiones encajan únicamente con los caracteres correspondientes. Con la concatenación obtenemos una nueva ER que encaja con aquellas cadenas formadas por subcadenas que encajen cada una de ellas con cada una de las ER anteriores. \n",
    "\n",
    "La **unión** se consigue mediante el operador **|**. Si unimos dos ER mediante este operador, la nueva ER encaja con aquellas cadenas que encajen con cualquiera de las dos ER anteriores. Prueba a introducir en el siguiente ejemplo las cadenas *\"Tomás\"* y *\"Simón\"* para comprobarlo:"
   ]
  },
  {
   "cell_type": "code",
   "execution_count": null,
   "metadata": {
    "collapsed": true
   },
   "outputs": [],
   "source": [
    "prueba_ER(r'Tomás|Simón')"
   ]
  },
  {
   "cell_type": "markdown",
   "metadata": {},
   "source": [
    "La **repetición** se obtiene mediante los operadores \\* y *+*. El operador se coloca a continuación de una ER, de manera que las cadenas que encajarán serán aquellas formadas por cualquier número de repeticiones de cadenas que encajen con la ER a la que se le aplicó el operador de repetición. La diferencia entre \\* y *+* es que el primer operador contempla la posibilidad de cero repeticiones (es decir, admite la cadena vacía como coincidencia). Prueba el siguiente ejemplo:"
   ]
  },
  {
   "cell_type": "code",
   "execution_count": null,
   "metadata": {
    "collapsed": true
   },
   "outputs": [],
   "source": [
    "prueba_ER(r'a*') # Admite cualquier cadena formada por cualquier número de aes, incluyendo la cadena vacía.\n",
    "prueba_ER(r'a+') # Admite cualquier cadena formada por una o más aes."
   ]
  },
  {
   "cell_type": "markdown",
   "metadata": {},
   "source": [
    "Combinando estos tres operadores podemos expresar patrones más complejos. Para dejar claro el alcance de cada operador, puede ser útil utilizar paréntesis. Por ejemplo, *\"cadenas que comiencen por una a y, a continuación, tengan cualquier combinación de aes y bes\"*. Puedes probar el siguiente ejemplo escribiendo cadenas como *\"aaab\"* o *\"abbaabbbababaa\"*:"
   ]
  },
  {
   "cell_type": "code",
   "execution_count": null,
   "metadata": {
    "collapsed": true
   },
   "outputs": [],
   "source": [
    "prueba_ER(r'a(a|b)*')"
   ]
  },
  {
   "cell_type": "markdown",
   "metadata": {},
   "source": [
    "## 2.2. Operadores avanzados <a name=\"sec_2_2\"/>"
   ]
  },
  {
   "cell_type": "markdown",
   "metadata": {},
   "source": [
    "Aunque haciendo uso de los operadores anteriores es posible escribir cualquier expresión regular, en muchos casos sería necesario escribir patrones demasiado largos. Existen una serie de operadores \"avanzados\" que nos permiten abreviar ciertos usos comunes de los operadores básicos.\n",
    "\n",
    "El operador **[ ]** permite expresar la unión entre un conjunto de caracteres. La ER resultante identifica cadenas formadas por uno cualquiera de los caracteres incluidos entre los corchetes. Por ejemplo, el patrón ```r'a[abcde]*'``` se puede leer como *\"cualquier cadena que comience por una a y, a continuación, tenga cualquier combinación de aes, bes, ces, des y es\"*. Date cuenta de que podríamos haber escrito la misma expresión usando los operadores básicos, aunque nos saldría algo más larga y un poco menos legible: ```r'a(a|b|c|d|e)*'```."
   ]
  },
  {
   "cell_type": "code",
   "execution_count": null,
   "metadata": {
    "collapsed": true
   },
   "outputs": [],
   "source": [
    "prueba_ER(r'a([abcde])*')"
   ]
  },
  {
   "cell_type": "markdown",
   "metadata": {},
   "source": [
    "Dentro de los corchetes, podemos expresar intervalos de caracteres de forma aún más abreviada, utilizando el guión. Por ejemplo, la expresión anterior también se puede escribir así: ```r'a[a-e]*```. Esto es especialmente útil cuando queremos expresar cosas como *\"cualquier caracter en letras minúsculas\"*, que podremos escribir como ```[a-z]```. Mira el siguiente ejemplo:"
   ]
  },
  {
   "cell_type": "code",
   "execution_count": null,
   "metadata": {
    "collapsed": true
   },
   "outputs": [],
   "source": [
    "prueba_ER(r'[0-9]+') # Encaja con cualquier combinación de dígitos"
   ]
  },
  {
   "cell_type": "markdown",
   "metadata": {},
   "source": [
    "También es posible indicar varios intervalos de caracteres, de la siguiente manera:"
   ]
  },
  {
   "cell_type": "code",
   "execution_count": null,
   "metadata": {
    "collapsed": true
   },
   "outputs": [],
   "source": [
    "prueba_ER(r'[0-9a-zA-Z]+') # Encaja con cualquier combinación de dígitos y letras"
   ]
  },
  {
   "cell_type": "markdown",
   "metadata": {},
   "source": [
    "Para acabar con el operador *[ ]*, si colocamos el carácter *^* a continuación del corchete de apertura, estaremos invirtiendo la selección de caracteres, por ejemplo:"
   ]
  },
  {
   "cell_type": "code",
   "execution_count": null,
   "metadata": {
    "collapsed": true
   },
   "outputs": [],
   "source": [
    "prueba_ER(r'[^0-9]+') # Encaja con cualquier combinación de caracteres que no incluya ningún dígito"
   ]
  },
  {
   "cell_type": "markdown",
   "metadata": {},
   "source": [
    "---\n",
    "El operador **?** expresa que una parte del patrón es opcional. Dicho de otro modo, permite cero o una repetición de la ER a la que afecta. Por ejemplo, el siguiente patrón coincide con la palabra \"casa\", en singular o en plural:"
   ]
  },
  {
   "cell_type": "code",
   "execution_count": null,
   "metadata": {
    "collapsed": true
   },
   "outputs": [],
   "source": [
    "prueba_ER(r'casas?')"
   ]
  },
  {
   "cell_type": "markdown",
   "metadata": {},
   "source": [
    "Fíjate en que la interrogación sólo afecta al último carácter. Si se desea expresar opcionalidad para un trozo más grande del patrón, hay que utilizar los paréntesis:"
   ]
  },
  {
   "cell_type": "code",
   "execution_count": null,
   "metadata": {
    "collapsed": true
   },
   "outputs": [],
   "source": [
    "prueba_ER(r'(muy )?bien') # Encaja con \"bien\" y con \"muy bien\""
   ]
  },
  {
   "cell_type": "markdown",
   "metadata": {},
   "source": [
    "---\n",
    "El operador **{ }** es parecido a los operadores de repetición, con la salvedad de que permite escoger el número exacto de repeticiones. Por ejemplo, el patrón ```r'[0-9]{10}'``` coincide con cadenas formadas *exactamente* por 10 dígitos:"
   ]
  },
  {
   "cell_type": "code",
   "execution_count": null,
   "metadata": {
    "collapsed": true
   },
   "outputs": [],
   "source": [
    "prueba_ER(r'[0-9]{10}')"
   ]
  },
  {
   "cell_type": "markdown",
   "metadata": {},
   "source": [
    "También podemos especificar intervalos permitidos de repeticiones:"
   ]
  },
  {
   "cell_type": "code",
   "execution_count": null,
   "metadata": {
    "collapsed": true
   },
   "outputs": [],
   "source": [
    "prueba_ER(r'[0-9]{1,10}') # Entre uno y diez dígitos"
   ]
  },
  {
   "cell_type": "code",
   "execution_count": null,
   "metadata": {
    "collapsed": true
   },
   "outputs": [],
   "source": [
    "prueba_ER(r'[0-9]{,10}') # Entre cero y diez dígitos"
   ]
  },
  {
   "cell_type": "code",
   "execution_count": null,
   "metadata": {
    "collapsed": true
   },
   "outputs": [],
   "source": [
    "prueba_ER(r'[0-9]{3,}') # Al menos tres dígitos"
   ]
  },
  {
   "cell_type": "markdown",
   "metadata": {},
   "source": [
    "## 2.3. Comodines <a name=\"sec_2_3\"/>"
   ]
  },
  {
   "cell_type": "markdown",
   "metadata": {},
   "source": [
    "Ya que es frecuente usar en una ER el patrón *\"cualquier dígito\"*, es posible expresarlo de una manera más concisa mediante la expresión ```\\d```. Así que podemos volver a escribir *\"cadenas formadas exactamente por 10 dígitos\"* de esta otra forma:"
   ]
  },
  {
   "cell_type": "code",
   "execution_count": null,
   "metadata": {
    "collapsed": true
   },
   "outputs": [],
   "source": [
    "prueba_ER(r'\\d{10}')"
   ]
  },
  {
   "cell_type": "markdown",
   "metadata": {},
   "source": [
    "Decimos que ```\\d``` es un **comodín** (también llamado *clase de caracteres*). Existen algunas más, que enumeramos a continuación:\n",
    "\n",
    "|  Comodín  | Significado         |\n",
    "|------|-----------------|\n",
    "|.| Cualquier carácter, excepto el salto de línea.|\n",
    "|\\d| Cualquier dígito. |\n",
    "|\\D| Cualquier carácter distinto de un dígito.|\n",
    "|\\w| Cualquier carácter que puede formar parte de una palabra, incluyendo dígitos, letras y el carácter subrayado (\\_).|\n",
    "|\\W| Cualquier carácter distinto a los expresados por \\w.|\n",
    "|\\s| Cualquier tipo de espacio en blanco, incluyendo la barra espaciadora, el tabulador y el salto de línea. |\n",
    "|\\S| Cualquier carácter distinto a los expresados por \\s.|\n",
    "|\\b| Representa el borde de una palabra.|\n",
    "|^| Representa el comienzo de una cadena.|\n",
    "|$| Representa el final de una cadena.|"
   ]
  },
  {
   "cell_type": "markdown",
   "metadata": {},
   "source": [
    "Los tres últimos comodines, ```\\b```, ```^``` y ```$```, no encajan realmente con ningún carácter, sino que sirven para representar distintas situaciones. Por ejemplo, para expresar en una ER que la cadena debe comenzar por un número, podríamos escribir ```^\\d```.  Y la expresión ```\\b\\d*``` aplicada a la cadena *\"casa231 365\"* encarajaría con el trozo *\"231\"* (pues es una combinación de números que aparece a continuación de una palabra), pero no con el trozo *\"365\"* (en la sección 3.1 veremos otro ejemplo de uso del comodín ```\\b```)."
   ]
  },
  {
   "cell_type": "markdown",
   "metadata": {},
   "source": [
    "Échale un ojo a los siguientes ejemplos en los que se usan comodines:"
   ]
  },
  {
   "cell_type": "code",
   "execution_count": null,
   "metadata": {
    "collapsed": true
   },
   "outputs": [],
   "source": [
    "# Encaja con cualquier cadena que comience por una a\n",
    "prueba_ER(r'a.*')"
   ]
  },
  {
   "cell_type": "code",
   "execution_count": null,
   "metadata": {
    "collapsed": true
   },
   "outputs": [],
   "source": [
    "# Encaja con dos palabras cualesquiera y un número de uno o varios dígitos\n",
    "# Por ejemplo: Me debes 120\n",
    "prueba_ER(r'\\w+\\s\\w+\\s\\d+')"
   ]
  },
  {
   "cell_type": "code",
   "execution_count": null,
   "metadata": {
    "collapsed": true
   },
   "outputs": [],
   "source": [
    "# Encaja con una fecha como las siguientes:\n",
    "# 1/1/2018\n",
    "# 12/3/18\n",
    "# 25/12/17\n",
    "prueba_ER(r'\\d?\\d/\\d?\\d/(\\d\\d)?\\d\\d')"
   ]
  },
  {
   "cell_type": "markdown",
   "metadata": {},
   "source": [
    "La mayoría de los comodines comienzan con una barra invertida. Esta es la razón por la que las expresiones regulares suelen escribirse en Python en cadenas antecedidas por una erre. Si no ponemos la erre, y hacemos uso de una barra invertida dentro de la cadena, Python interpreta erróneamente que queremos introducir un carácter especial en la cadena (como el \\n para el salto de línea, o el \\t para el tabulador). Sin embargo, al anteceder la cadena con una erre, Python interpreta las barras invertidas de manera literal; si no pusiéramos la erre, habría que usar dos barras invertidas (\\\\\\\\) cada vez que quisiéramos indicar un comodín. "
   ]
  },
  {
   "cell_type": "markdown",
   "metadata": {},
   "source": [
    "## 2.4. Símbolos especiales <a name=\"sec_2_4\"/>"
   ]
  },
  {
   "cell_type": "markdown",
   "metadata": {},
   "source": [
    "En las secciones anteriores hemos visto que algunos caracteres tienen un significado especial cuando aparecen en una expresión regular: el punto, el asterisco, la interrogación, los corchetes... ¿Cómo hacemos entonces para utilizar esos caracteres de manera literal en nuestras expresiones regulares? Por ejemplo, supongamos que queremos escribir una ER que signifique *\"palabra acabada en interrogación\"*. \n",
    "\n",
    "La manera de hacerlo es \"escapar\" los caracteres especiales, lo que significa ponerles delante una barra invertida (\\\\). De esta forma, el carácter en cuestión deja de tener un significado especial, y se interpreta de manera literal. \n",
    "\n",
    "Por tanto, la expresión *\"palabra acabada en interrogación\"* quedaría así: ```r'\\w+\\?'```."
   ]
  },
  {
   "cell_type": "markdown",
   "metadata": {},
   "source": [
    "# 3. Funciones para trabajar con ER en Python <a name=\"sec_3\"/>"
   ]
  },
  {
   "cell_type": "markdown",
   "metadata": {},
   "source": [
    "Aunque existen [muchas más funciones en el módulo re](https://docs.python.org/3/library/re.html), nosotros nos limitaremos a ver tres que nos pueden resultar muy útiles a la hora de procesar ficheros de texto con estructura compleja, como el ejemplo que vimos anteriormente de los log de Whatsapp. En concreto, vamos a estudiar las siguientes funciones:\n",
    "\n",
    "* **re.findall**: recibe una expresión regular y una cadena y devuelve una lista con todos los trozos de la cadena que encajan con el patrón.\n",
    "\n",
    "* **re.match**: recibe una expresión regular y una cadena, y comprueba si al principio de dicha cadena hay algún trozo que coincida con la ER (puede ser la cadena completa o sólo una parte). \n",
    "\n",
    "* **re.fullmatch**: recibe una expresión regular y una cadena, y comprueba si la cadena completa coincide con el patrón. "
   ]
  },
  {
   "cell_type": "markdown",
   "metadata": {},
   "source": [
    "## 3.1. La función re.findall <a name=\"sec_3_1\"/>"
   ]
  },
  {
   "cell_type": "markdown",
   "metadata": {},
   "source": [
    "La función **re.findall** recibe una expresión regular y una cadena y devuelve una lista con todos los trozos de la cadena que encajan con el patrón. Observa el siguiente ejemplo, en el que buscamos todas las palabras que acaben en tilde y contamos cuántas veces aparecen:"
   ]
  },
  {
   "cell_type": "code",
   "execution_count": null,
   "metadata": {
    "collapsed": true
   },
   "outputs": [],
   "source": [
    "from collections import Counter\n",
    "\n",
    "# El fichero alicia.txt contiene el texto de la novela \"Alicia en el País de las Maravillas\"\n",
    "contador = Counter()\n",
    "with open('alicia.txt', encoding='utf-8') as f:\n",
    "    for linea in f:        \n",
    "        linea = linea.lower() # Pasamos todo el texto a minúsculas\n",
    "        acaban_en_tilde = re.findall(r'\\w*[áéíóú]\\b', linea)\n",
    "        # Le pasamos la lista de palabras encontradas al objeto Counter,\n",
    "        # que se encarga de ir contando cuántas veces aparece cada palabra.\n",
    "        contador.update(acaban_en_tilde)\n",
    "    # El método most_common del contador nos devuelve una lista de tuplas con\n",
    "    # las palabras y las veces que han aparecido cada una\n",
    "    print(contador.most_common())"
   ]
  },
  {
   "cell_type": "markdown",
   "metadata": {},
   "source": [
    "El patrón que hemos utilizado, ```r'\\w*[áéíóú]\\b'```, significa *\"cualquier palabra acabada en á, é, í, ó o ú\"*. Fíjese en el uso de ```\\b``` para representar el borde de una palabra (prueba a quitar ese ```\\b``` del patrón y mira lo que ocurre)."
   ]
  },
  {
   "cell_type": "markdown",
   "metadata": {
    "collapsed": true
   },
   "source": [
    "Si la expresión regular que utilizamos contiene paréntesis, la función *re.findall* se comporta de una manera un poco distinta. Observa el siguiente ejemplo:"
   ]
  },
  {
   "cell_type": "code",
   "execution_count": null,
   "metadata": {
    "collapsed": true
   },
   "outputs": [],
   "source": [
    "siguiente_alicia = []\n",
    "with open('alicia.txt', encoding='utf-8') as f:\n",
    "    for linea in f:        \n",
    "        siguiente_alicia += re.findall(r'Alicia (\\w+)', linea)\n",
    "    print(sorted(set(siguiente_alicia)))"
   ]
  },
  {
   "cell_type": "markdown",
   "metadata": {},
   "source": [
    "En este código estamos buscando todas las apariciones de *\"Alicia\"* seguida de cualquier palabra. Pero cuando se encuentra un trozo de texto que encaja con este patrón, *findall* nos devuelve únicamente la parte que corresponde a lo que hemos metido dentro de los paréntesis. ¿Y si hay más de una pareja de paréntesis en nuestra expresión regular? Compruébalo tú mismo:"
   ]
  },
  {
   "cell_type": "code",
   "execution_count": null,
   "metadata": {
    "collapsed": true
   },
   "outputs": [],
   "source": [
    "siguiente_alicia = []\n",
    "with open('alicia.txt', encoding='utf-8') as f:\n",
    "    for linea in f:        \n",
    "        siguiente_alicia += re.findall(r'Alicia (\\w+) (\\w+)', linea)\n",
    "    print(sorted(set(siguiente_alicia)))"
   ]
  },
  {
   "cell_type": "markdown",
   "metadata": {},
   "source": [
    "Efectivamente: si hay varios paréntesis, *findall* nos devuelve tuplas, con los trozos de cadena correspondientes a cada uno de los paréntesis. Esto puede ser muy útil para extraer determinados datos desde un texto. Por ejemplo, podemos extraer los números y nombres de los capítulos del cuento:"
   ]
  },
  {
   "cell_type": "code",
   "execution_count": null,
   "metadata": {
    "collapsed": true
   },
   "outputs": [],
   "source": [
    "capitulos = []\n",
    "with open('alicia.txt', encoding='utf-8') as f:\n",
    "    for linea in f:        \n",
    "        capitulos += re.findall(r'Capítulo (\\d+) - (.*)', linea)\n",
    "    print(capitulos)"
   ]
  },
  {
   "cell_type": "markdown",
   "metadata": {},
   "source": [
    "## 3.2. Las funciones re.match y re.fullmatch <a name=\"sec_3_2\"/>"
   ]
  },
  {
   "cell_type": "markdown",
   "metadata": {},
   "source": [
    "La función **re.match** recibe una ER y una cadena, y comprueba si **al principio de dicha cadena** hay algún trozo que coincida con la ER (puede ser la cadena completa o sólo una parte). Si se encuentra una coincidencia, se obtiene un objeto **match**, el cual nos permite consultar el trozo concreto de cadena que se ha encontrado conforme al patrón. \n",
    "\n",
    "Mira el siguiente ejemplo: "
   ]
  },
  {
   "cell_type": "code",
   "execution_count": null,
   "metadata": {
    "collapsed": true
   },
   "outputs": [],
   "source": [
    "with open('bigbangtheory_es.txt', encoding='utf-8') as f:\n",
    "    for linea in f:        \n",
    "        print('Línea que se va a procesar:', linea)\n",
    "        coincidencia = re.match(r'\\d\\d?/\\d\\d?/\\d\\d?', linea)\n",
    "        if coincidencia:\n",
    "            print('Fecha encontrada:', coincidencia.group())\n",
    "            # Para este ejemplo, abortamos el recorrido del fichero una vez\n",
    "            # hemos encontrado la primera fecha.\n",
    "            break;"
   ]
  },
  {
   "cell_type": "markdown",
   "metadata": {},
   "source": [
    "El código anterior busca en cada línea un patrón que corresponde con una fecha. Si la función *re.match* encuentra una coincidencia al principio de la cadena, entonces el *if* lo evalúa como *True*. Una vez dentro del *if*, el método **group** nos devuelve el trozo de cadena correspondiente a dicha coincidencia. \n",
    "\n",
    "El funcionamiento de *re.match* es muy parecido al de la función **re.fullmatch** que vimos al principio de este notebook, con la única diferencia de que *re.fullmatch* sólo encuentra coincidencia si la cadena **completa** coincide con la ER. Eso la hace útil para probar expresiones regulares que estamos desarrollando. Si en el ejemplo anterior hubiéramos usado *re.fullmatch*, no se habría encontrado ninguna coincidencia, ya que el patrón se da al principio de la línea, pero no coincide con la cadena completa (pruébalo cambiando el código de arriba).La función *re.fullmatch* también puede sernos útil para validar que un dato introducido por el usuario de nuestra aplicación sigue un formato concreto (la típica celda de un formulario que *te obliga* a introducir una fecha correctamente). Mira el siguiente ejemplo:"
   ]
  },
  {
   "cell_type": "code",
   "execution_count": null,
   "metadata": {
    "collapsed": true
   },
   "outputs": [],
   "source": [
    "er_fecha = r'\\d?\\d/\\d?\\d/(\\d\\d)?\\d\\d'\n",
    "fecha = input('Introduzca una fecha:')\n",
    "while not re.fullmatch(er_fecha, fecha):\n",
    "    fecha = input('Formato incorrecto, debe introducir una fecha con formato día/mes/año:')\n",
    "print('Fecha correctamente introducida:', fecha)"
   ]
  },
  {
   "cell_type": "markdown",
   "metadata": {},
   "source": [
    "### ¡Prueba tú!\n",
    "Completa el siguiente código para que obligue al usuario a introducir una dirección de email válida. Las direcciones de email están formadas por el nombre de usuario (que simplificaremos diciendo que sólo admite letras, dígitos y el signo de subrayado), una arroba, y el nombre del dominio del servidor de correo (formado por una combinación de letras, un punto, y otra combinación de letras). Por ejemplo, sería válido *\"tomas@fp.com\"*, pero no serían válidos *\"tomas\"*, *\"@fp,com\"*, ni \"tomas@fp\"."
   ]
  },
  {
   "cell_type": "code",
   "execution_count": null,
   "metadata": {
    "collapsed": true
   },
   "outputs": [],
   "source": [
    "er_email = r'COMPLETAR'\n",
    "email = input('Introduzca una dirección de email:')\n",
    "while not re.fullmatch(er_email, email):\n",
    "    email = input('Formato incorrecto, debe introducir una dirección de email con formato usuario@servidor:')\n",
    "print('Email correctamente introducido:', email)"
   ]
  },
  {
   "cell_type": "markdown",
   "metadata": {},
   "source": [
    "---\n",
    "Al igual que ocurre con la función *re.findall*, si la expresión regular contiene paréntesis estos también tienen un efecto sobre el comportamiento de las funciones *re.match* y *re.fullmatch*. Cada una de las parejas de paréntesis representan un grupo, de manera que podemos acceder a cada uno de los grupos por separado, indicándolo mediante un número que le pasamos como parámetro al método *group*:"
   ]
  },
  {
   "cell_type": "code",
   "execution_count": null,
   "metadata": {
    "collapsed": true
   },
   "outputs": [],
   "source": [
    "with open('bigbangtheory_es.txt', encoding='utf-8') as f:\n",
    "    for linea in f:        \n",
    "        coincidencia = re.match(r'(\\d\\d?)/(\\d\\d?)/(\\d\\d?)', linea)\n",
    "        if coincidencia:\n",
    "            dia = coincidencia.group(1)\n",
    "            mes = coincidencia.group(2)\n",
    "            anyo = coincidencia.group(3)\n",
    "            print('Fecha encontrada: dia {}, mes {}, año {}'.format(dia, mes, anyo))\n",
    "            # Para este ejemplo, abortamos el recorrido del fichero una vez\n",
    "            # hemos encontrado la primera fecha.\n",
    "            break;"
   ]
  },
  {
   "cell_type": "markdown",
   "metadata": {},
   "source": [
    "Podemos mejorar la legibilidad de la expresión regular y del código que accede a los grupos si ponemos nombre a dichos grupos. Esto se puede hacer escribiendo los grupos de esta forma: ```(?P<nombre> ...)```. Una vez hecho esto, podemos pasar la cadena con el nombre de un grupo al método *group*, en lugar de un número. Veamos cómo queda el ejemplo anterior si nombramos los grupos:"
   ]
  },
  {
   "cell_type": "code",
   "execution_count": null,
   "metadata": {
    "collapsed": true
   },
   "outputs": [],
   "source": [
    "with open('bigbangtheory_es.txt', encoding='utf-8') as f:\n",
    "    for linea in f:        \n",
    "        coincidencia = re.match(r'(?P<dia>\\d\\d?)/(?P<mes>\\d\\d?)/(?P<año>\\d\\d?,)', linea)\n",
    "        if coincidencia:\n",
    "            dia = coincidencia.group('dia')\n",
    "            mes = coincidencia.group('mes')\n",
    "            anyo = coincidencia.group('año')\n",
    "            print('Fecha encontrada: dia {}, mes {}, año {}'.format(dia, mes, anyo))\n",
    "            # Para este ejemplo, abortamos el recorrido del fichero una vez\n",
    "            # hemos encontrado la primera fecha.\n",
    "            break;"
   ]
  },
  {
   "cell_type": "markdown",
   "metadata": {},
   "source": [
    "Si completamos la expresión regular que estamos usando, podremos extraer todos los trozos que nos interesan de cada una de las líneas del fichero de log. Vamos a definir grupos dentro de la ER para extraer la fecha, la hora, el usuario y el texto del mensaje:"
   ]
  },
  {
   "cell_type": "code",
   "execution_count": null,
   "metadata": {
    "collapsed": true
   },
   "outputs": [],
   "source": [
    "with open('bigbangtheory_es.txt', encoding='utf-8') as f:\n",
    "    for linea in f:        \n",
    "        coincidencia = re.match(r'(?P<fecha>\\d\\d?/\\d\\d?/\\d\\d?), (?P<hora>\\d\\d:\\d\\d) - (?P<usuario>[^:]+):(?P<texto>.*)', linea)\n",
    "        if coincidencia:\n",
    "            fecha = coincidencia.group('fecha')\n",
    "            hora = coincidencia.group('hora')\n",
    "            usuario = coincidencia.group('usuario')\n",
    "            texto = coincidencia.group('texto')\n",
    "            print('Fecha: {}. Hora: {}. Usuario: {}.'.format(fecha, hora, usuario))\n",
    "            print('Texto:', texto)\n",
    "            # Para este ejemplo, abortamos el recorrido del fichero una vez\n",
    "            # hemos encontrado la primera fecha.\n",
    "            break;"
   ]
  },
  {
   "cell_type": "markdown",
   "metadata": {},
   "source": [
    "Ten en cuenta que todos los trozos extraídos son cadenas; es posible que fuese apropiado convertir algunas de estas cadenas a otros tipos de datos que representen mejor la información (por ejemplo, la fecha a tipo *date* y la hora a tipo *time*)."
   ]
  },
  {
   "cell_type": "markdown",
   "metadata": {},
   "source": [
    "## 3.3. Otras funciones que trabajan con ER <a name=\"sec_3_3\"/>"
   ]
  },
  {
   "cell_type": "markdown",
   "metadata": {},
   "source": [
    "Aunque no las veremos en detalle, aquí tienes otras funciones existentes en el módulo *re* que alguna vez podrían serte útiles:\n",
    "* **re.search**: muy parecida a *re.match*, con la única diferencia de que busca una coincidencia **en cualquier parte de la cadena**, no necesariamente al principio.\n",
    "* **re.split**: recibe una expresión regular y una cadena. Al igual que el método *split* de las cadenas, devuelve una lista que corresponde a la cadena troceada. La diferencia con el método *split* es que se usa como separador una expresión regular, en lugar de una cadena literal. Así que, por ejemplo, podríamos dividir una cadena usando comas, puntos o puntos y coma como separadores, indistintamente, usando la ER ```r'[,.;]'```.\n",
    "* **re.sub**: recibe una expresión regular, una cadena de sustitución y una cadena a procesar. Busca todas las coincidencias de la ER dentro de la cadena a procesar, y las sustituye por la cadena de sustitución, devolviendo la cadena resultante. "
   ]
  }
 ],
 "metadata": {
  "anaconda-cloud": {},
  "kernelspec": {
   "display_name": "Python 3",
   "language": "python",
   "name": "python3"
  },
  "language_info": {
   "codemirror_mode": {
    "name": "ipython",
    "version": 3
   },
   "file_extension": ".py",
   "mimetype": "text/x-python",
   "name": "python",
   "nbconvert_exporter": "python",
   "pygments_lexer": "ipython3",
   "version": "3.6.1"
  }
 },
 "nbformat": 4,
 "nbformat_minor": 2
}
